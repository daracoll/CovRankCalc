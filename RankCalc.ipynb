{
 "cells": [
  {
   "cell_type": "code",
   "execution_count": 9,
   "id": "012f3bfa-544f-4d97-b77f-5372ff66c5d5",
   "metadata": {
    "tags": []
   },
   "outputs": [
    {
     "name": "stdin",
     "output_type": "stream",
     "text": [
      "Enter the dimension of the square matrices:  3\n"
     ]
    },
    {
     "name": "stdout",
     "output_type": "stream",
     "text": [
      "Enter the elements of the lower triangular (L) matrix row by row (total 9 elements):\n"
     ]
    },
    {
     "name": "stdin",
     "output_type": "stream",
     "text": [
      " 0 0 0\n",
      " 2 0 0\n",
      " 1 3 0\n"
     ]
    },
    {
     "name": "stdout",
     "output_type": "stream",
     "text": [
      "Enter the elements of the phi matrix row by row (total 9 elements):\n"
     ]
    },
    {
     "name": "stdin",
     "output_type": "stream",
     "text": [
      " 1 1 1\n",
      " 1 1 1\n",
      " 1 1 1\n"
     ]
    },
    {
     "name": "stdout",
     "output_type": "stream",
     "text": [
      "The resultant matrix Sigma_XZ is:\n",
      "[[-20. -20.  10.]\n",
      " [ -8.  -8.   4.]\n",
      " [ -2.  -2.   1.]]\n",
      "The rank of the resultant matrix Sigma_XZ is: 1\n"
     ]
    }
   ],
   "source": [
    "import numpy as np\n",
    "def input_matrix(n, name):\n",
    "    print(f\"Enter the elements of the {name} matrix row by row (total {n*n} elements):\")\n",
    "    elements = []\n",
    "    for _ in range(n):\n",
    "        row = list(map(float, input().split()))\n",
    "        if len(row) != n:\n",
    "            raise ValueError(f\"Each row must have exactly {n} elements.\")\n",
    "        elements.append(row)\n",
    "    return np.array(elements)\n",
    "\n",
    "\n",
    "def calculate_sigma_xz(L, phi):\n",
    "    n = L.shape[0]\n",
    "    I = np.identity(n)\n",
    "    I_minus_L = I - L\n",
    "    I_minus_L_invT = np.linalg.inv(I_minus_L).T\n",
    "    Sigma_XZ = I_minus_L_invT @ phi @ I_minus_L\n",
    "    return Sigma_XZ\n",
    "\n",
    "\n",
    "def main():\n",
    "    n = int(input(\"Enter the dimension of the square matrices: \"))\n",
    "    \n",
    "    \n",
    "    L = input_matrix(n, \"lower triangular (L)\")\n",
    "    phi = input_matrix(n, \"phi\")\n",
    "    \n",
    "   \n",
    "    if not np.allclose(L, np.tril(L)):\n",
    "        raise ValueError(\"Matrix L must be lower triangular.\")\n",
    "    \n",
    "   \n",
    "    Sigma_XZ = calculate_sigma_xz(L, phi)\n",
    "    \n",
    "    \n",
    "    print(\"The resultant matrix Sigma_XZ is:\")\n",
    "    print(Sigma_XZ)\n",
    "    rank = np.linalg.matrix_rank(Sigma_XZ)\n",
    "    print(f\"The rank of the resultant matrix Sigma_XZ is: {rank}\")\n",
    "\n",
    "if __name__ == \"__main__\":\n",
    "    main()"
   ]
  },
  {
   "cell_type": "code",
   "execution_count": null,
   "id": "8b20fcfb-40fd-4b8a-8c6e-352fcfc1e07d",
   "metadata": {},
   "outputs": [],
   "source": []
  }
 ],
 "metadata": {
  "kernelspec": {
   "display_name": "Python 3.10",
   "language": "python",
   "name": "python3"
  },
  "language_info": {
   "codemirror_mode": {
    "name": "ipython",
    "version": 3
   },
   "file_extension": ".py",
   "mimetype": "text/x-python",
   "name": "python",
   "nbconvert_exporter": "python",
   "pygments_lexer": "ipython3",
   "version": "3.10.12"
  }
 },
 "nbformat": 4,
 "nbformat_minor": 5
}
